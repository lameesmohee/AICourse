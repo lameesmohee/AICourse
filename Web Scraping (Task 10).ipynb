{
 "cells": [
  {
   "cell_type": "code",
   "execution_count": 59,
   "id": "96fe3595",
   "metadata": {
    "ExecuteTime": {
     "end_time": "2022-09-11T15:08:51.624819Z",
     "start_time": "2022-09-11T15:08:43.182200Z"
    }
   },
   "outputs": [],
   "source": [
    "#code which downloads a youtube video\n",
    "from pytube import YouTube\n",
    "ytv = YouTube(\"https://www.youtube.com/watch?v=Ct8Gxo8StBU\")\n",
    "video=ytv.streams.filter(file_extension=\"mp4\")\n",
    "video1=video.get_by_resolution(\"360p\")\n",
    "v=video1.download(\"C:/Users/delta/Downloads/\")\n"
   ]
  },
  {
   "cell_type": "code",
   "execution_count": 8,
   "id": "dae595fc",
   "metadata": {
    "ExecuteTime": {
     "end_time": "2022-09-11T07:24:45.221727Z",
     "start_time": "2022-09-11T07:24:44.364918Z"
    },
    "scrolled": true
   },
   "outputs": [
    {
     "name": "stdout",
     "output_type": "stream",
     "text": [
      "https://avatars.mds.yandex.net/i?id=e67c20f98bdc512c5d3bc20c140f8fac-5719595-images-taas-consumers&n=27&h=384&w=480\n",
      "https://avatars.mds.yandex.net/i?id=4210f04e14af5ae4b9267d24fc65fefe-5258857-images-taas-consumers&n=27&h=384&w=480\n",
      "https://avatars.mds.yandex.net/i?id=75e6e7ed5f2364917c04cab94e2e5aa1-4469750-images-taas-consumers&n=27&h=384&w=480\n",
      "https://avatars.mds.yandex.net/i?id=54f70198fed95cd31d8de17407a20ca8-5580923-images-taas-consumers&n=27&h=384&w=480\n",
      "https://avatars.mds.yandex.net/i?id=84dbd50839c3d640ebfc0de20994c30d-4473719-images-taas-consumers&n=27&h=384&w=480\n",
      "https://avatars.mds.yandex.net/i?id=3b8d7920da2e76a6ead6f9398138495a-5378330-images-taas-consumers&n=27&h=384&w=480\n",
      "https://avatars.mds.yandex.net/i?id=5a45452c661dda09696a590f90bec5b9-5279566-images-taas-consumers&n=27&h=384&w=480\n",
      "https://avatars.mds.yandex.net/i?id=0b5cd228beb8957ee54210bcac7736fb-4866889-images-taas-consumers&n=27&h=384&w=480\n",
      "https://avatars.mds.yandex.net/i?id=37d17e1d34850c8caa51ec12621772d2-5282277-images-taas-consumers&n=27&h=384&w=480\n",
      "https://avatars.mds.yandex.net/i?id=5066c822e074919569a34e83cbc66b9b-5388626-images-taas-consumers&n=27&h=384&w=480\n",
      "https://avatars.mds.yandex.net/i?id=e149f125dadaf7e2de959e09f8aa940e-5281415-images-taas-consumers&n=27&h=384&w=480\n",
      "https://avatars.mds.yandex.net/i?id=1ecff2fff87a702e1fea7ff56e7bc67b-4570398-images-taas-consumers&n=27&h=384&w=480\n",
      "https://avatars.mds.yandex.net/i?id=0439fac08b64af1d17eb6c5504cde6e5-5228734-images-taas-consumers&n=27&h=384&w=480\n",
      "https://avatars.mds.yandex.net/i?id=ad81aececc57171b2f9e9a397efecd69-5222421-images-taas-consumers&n=27&h=384&w=480\n",
      "https://avatars.mds.yandex.net/i?id=7953c9ba25dbb8e322ec2f7a4997dd07-5258857-images-taas-consumers&n=27&h=384&w=480\n",
      "https://avatars.mds.yandex.net/i?id=779fa9bd326991c8a8b49b443187b440-5234844-images-taas-consumers&n=27&h=384&w=480\n",
      "https://avatars.mds.yandex.net/i?id=4284497b85f2a0f88f3e7c53c9cb1703-4253950-images-taas-consumers&n=27&h=384&w=480\n",
      "https://avatars.mds.yandex.net/i?id=7932bcb9adadced226b5a3fad5a32c5b-4479087-images-taas-consumers&n=27&h=384&w=480\n",
      "https://avatars.mds.yandex.net/i?id=110cabd9722e45b7c574c6d2e5206ca2-5331957-images-taas-consumers&n=27&h=384&w=480\n",
      "https://avatars.mds.yandex.net/i?id=92b73db2c5c685a126f2ba148918743e-5771546-images-taas-consumers&n=27&h=384&w=480\n"
     ]
    }
   ],
   "source": [
    "#scraping images from yandex.com\n",
    "import requests\n",
    "from bs4 import BeautifulSoup\n",
    "import csv\n",
    "from itertools import zip_longest\n",
    "links=[]\n",
    "result = requests.get(\"https://www.yandex.com/images/?redircnt=1662838350.1\")\n",
    "site = result.content\n",
    "soup = BeautifulSoup(site,'lxml')\n",
    "images=soup.find_all('img',class_=\"PopularRequestList-Thumb\")\n",
    "for i in images:\n",
    "    print(\"https:\"+i['src'])\n"
   ]
  },
  {
   "cell_type": "code",
   "execution_count": 65,
   "id": "ef57b86a",
   "metadata": {
    "ExecuteTime": {
     "end_time": "2022-09-11T15:27:49.994348Z",
     "start_time": "2022-09-11T15:27:48.931736Z"
    }
   },
   "outputs": [
    {
     "name": "stdout",
     "output_type": "stream",
     "text": [
      "Python Tutorial: Zip Files – Creating and Extracting Zip Archives\n",
      "<p>In this video, we will be learning how to create and extract zip archives. We will start by using the zipfile module, and then we will see how to do this using the shutil module. We will learn how to do this with single files and directories, as well as learning how to use gzip as well. Let’s get started…<br/></p>\n",
      "https://www.youtube.com/embed/z0gguhEmWiY?version=3&rel=1&showsearch=0&showinfo=1&iv_load_policy=1&fs=1&hl=en-US&autohide=2&wmode=transparent\n",
      "Python Data Science Tutorial: Analyzing the 2019 Stack Overflow Developer Survey\n",
      "<p>In this Python Programming video, we will be learning how to download and analyze real-world data from the 2019 Stack Overflow Developer Survey. This is terrific practice for anyone getting into the data science field. We will learn different ways to analyze this data and also some best practices. Let’s get started…</p>\n",
      "https://www.youtube.com/embed/_P7X8tMplsw?version=3&rel=1&showsearch=0&showinfo=1&iv_load_policy=1&fs=1&hl=en-US&autohide=2&wmode=transparent\n",
      "Python Multiprocessing Tutorial: Run Code in Parallel Using the Multiprocessing Module\n",
      "<p>In this Python Programming video, we will be learning how to run code in parallel using the multiprocessing module. We will also look at how to process multiple high-resolution images at the same time using a ProcessPoolExecutor from the concurrent.futures module. Let’s get started…</p>\n",
      "https://www.youtube.com/embed/fKl2JW_qrso?version=3&rel=1&showsearch=0&showinfo=1&iv_load_policy=1&fs=1&hl=en-US&autohide=2&wmode=transparent\n",
      "Python Threading Tutorial: Run Code Concurrently Using the Threading Module\n",
      "<p>In this Python Programming video, we will be learning how to run threads concurrently using the threading module. We will also look at how to download multiple high-resolution images online using a ThreadPoolExecutor from the concurrent.futures module. Let’s get started…</p>\n",
      "https://www.youtube.com/embed/IEEhzQoKtQU?version=3&rel=1&showsearch=0&showinfo=1&iv_load_policy=1&fs=1&hl=en-US&autohide=2&wmode=transparent\n",
      "no Links\n",
      "Update (2019-09-03)\n",
      "<p>Hey everyone. I wanted to give you an update on my videos. I will be releasing videos on threading and multiprocessing within the next week. Thanks so much for your patience. I currently have a temporary recording studio setup at my Airbnb that will allow me to record and edit the threading/multiprocessing videos. I am going to be moving into my new house in 10 days and once I have my recording studio setup then you can expect much faster video releases. I really appreciate how patient everyone has been while I go through this move, especially those of you who are contributing monthly through YouTube </p>\n",
      "https://www.youtube.com/embed/IEEhzQoKtQU?version=3&rel=1&showsearch=0&showinfo=1&iv_load_policy=1&fs=1&hl=en-US&autohide=2&wmode=transparent\n",
      "Python Quick Tip: The Difference Between “==” and “is” (Equality vs Identity)\n",
      "<p>In this Python Programming Tutorial, we will be learning the difference between using “==” and the “is” keyword when doing comparisons. The difference between these is that “==” checks to see if values are equal, and the “is” keyword checks their identity, which means it’s going to check if the values are identical in terms of being the same object in memory. We’ll learn more in the video. Let’s get started…</p>\n",
      "https://www.youtube.com/embed/mO_dS3rXDIs?version=3&rel=1&showsearch=0&showinfo=1&iv_load_policy=1&fs=1&hl=en-US&autohide=2&wmode=transparent\n",
      "Python Tutorial: Calling External Commands Using the Subprocess Module\n",
      "<p>In this Python Programming Tutorial, we will be learning how to run external commands using the subprocess module from the standard library. We will learn how to run commands, capture the output, handle errors, and also how to pipe output into other commands. Let’s get started…</p>\n",
      "https://www.youtube.com/embed/2Fp1N6dof0Y?version=3&rel=1&showsearch=0&showinfo=1&iv_load_policy=1&fs=1&hl=en-US&autohide=2&wmode=transparent\n",
      "Visual Studio Code (Windows) – Setting up a Python Development Environment and Complete Overview\n",
      "<p>In this Python Programming Tutorial, we will be learning how to set up a Python development environment in VSCode on Windows. VSCode is a very nice free editor for writing Python applications and many developers are now switching over to this editor. In this video, we will learn how to install VSCode, get the Python extension installed, how to change Python interpreters, create virtual environments, format/lint our code, how to use Git within VSCode, how to debug our programs, how unit testing works, and more. We have a lot to cover, so let’s go ahead and get started…</p>\n",
      "https://www.youtube.com/embed/-nh9rCzPJ20?version=3&rel=1&showsearch=0&showinfo=1&iv_load_policy=1&fs=1&hl=en-US&autohide=2&wmode=transparent\n",
      "Visual Studio Code (Mac) – Setting up a Python Development Environment and Complete Overview\n",
      "<p>In this Python Programming Tutorial, we will be learning how to set up a Python development environment in VSCode on MacOS. VSCode is a very nice free editor for writing Python applications and many developers are now switching over to this editor. In this video, we will learn how to install VSCode, get the Python extension installed, how to change Python interpreters, create virtual environments, format/lint our code, how to use Git within VSCode, how to debug our programs, how unit testing works, and more. We have a lot to cover, so let’s go ahead and get started…</p>\n",
      "https://www.youtube.com/embed/06I63_p-2A4?version=3&rel=1&showsearch=0&showinfo=1&iv_load_policy=1&fs=1&hl=en-US&autohide=2&wmode=transparent\n",
      "Clarifying the Issues with Mutable Default Arguments\n",
      "<p>In this Python Programming Tutorial, we will be clarifying the issues with mutable default arguments. We discussed this in my last video titled “5 Common Python Mistakes and How to Fix Them”, but I received many comments from people who were still confused. So we will be doing a deeper dive to explain exactly what is going on here. Let’s get started…</p>\n",
      "https://www.youtube.com/embed/_JGmemuINww?version=3&rel=1&showsearch=0&showinfo=1&iv_load_policy=1&fs=1&hl=en-US&autohide=2&wmode=transparent\n"
     ]
    }
   ],
   "source": [
    "#scraping 5 articles from coreyms.com\n",
    "import requests\n",
    "from bs4 import BeautifulSoup\n",
    "website = requests.get(\"https://coreyms.com/\").content\n",
    "soup1= BeautifulSoup(website,'lxml')\n",
    "part= soup1.find_all(\"article\")\n",
    "for i in part:\n",
    "    try:\n",
    "        vid = i.find('iframe', class_ = \"youtube-player\")['src']\n",
    "    except:\n",
    "        print(\"no Links\")\n",
    "\n",
    "    print(i.header.h2.a.text)\n",
    "    print(i.div.p)\n",
    "    print(vid)"
   ]
  },
  {
   "cell_type": "code",
   "execution_count": 49,
   "id": "39b6fd2c",
   "metadata": {
    "ExecuteTime": {
     "end_time": "2022-09-11T12:13:35.269815Z",
     "start_time": "2022-09-11T12:13:34.302746Z"
    }
   },
   "outputs": [],
   "source": [
    "#scraping names of the subscriped YouTube Channels\n",
    "import requests\n",
    "from bs4 import BeautifulSoup\n",
    "import csv\n",
    "from itertools import zip_longest\n",
    "youtube=requests.get(\"https://www.youtube.com/feed/channels\").content\n",
    "soup2=BeautifulSoup(youtube,'lxml')\n",
    "names=soup2.find_all(\"yt-formatted-string\",{\"id\":\"text\"})\n",
    "for i in names:\n",
    "    print(i.text)"
   ]
  }
 ],
 "metadata": {
  "kernelspec": {
   "display_name": "Python 3 (ipykernel)",
   "language": "python",
   "name": "python3"
  },
  "language_info": {
   "codemirror_mode": {
    "name": "ipython",
    "version": 3
   },
   "file_extension": ".py",
   "mimetype": "text/x-python",
   "name": "python",
   "nbconvert_exporter": "python",
   "pygments_lexer": "ipython3",
   "version": "3.9.12"
  }
 },
 "nbformat": 4,
 "nbformat_minor": 5
}
