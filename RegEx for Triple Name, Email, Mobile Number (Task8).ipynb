{
 "cells": [
  {
   "cell_type": "code",
   "execution_count": 31,
   "id": "b0062e59",
   "metadata": {
    "ExecuteTime": {
     "end_time": "2022-08-31T15:12:38.904247Z",
     "start_time": "2022-08-31T15:12:38.893708Z"
    }
   },
   "outputs": [
    {
     "name": "stdout",
     "output_type": "stream",
     "text": [
      "Ahmed Mahmoud Sayed\n",
      "ahmed_mahmoud@yahoo.com\n",
      "010-0200-0301\n",
      "Mounir Hassan Adel\n",
      "mounir.assan@gmail.com\n",
      "011-2525-2525\n",
      "Mamdouh Saleh Yasser\n",
      "mamdouhyasser3004@hotmail.com\n",
      "012-3636-3636\n"
     ]
    }
   ],
   "source": [
    "import re\n",
    "Text=open(\"text.txt\",\"r\")\n",
    "text_file=Text.read()\n",
    "print(text_file)"
   ]
  },
  {
   "cell_type": "code",
   "execution_count": 32,
   "id": "bd9d538b",
   "metadata": {
    "ExecuteTime": {
     "end_time": "2022-08-31T15:12:41.385066Z",
     "start_time": "2022-08-31T15:12:41.371223Z"
    }
   },
   "outputs": [
    {
     "name": "stdout",
     "output_type": "stream",
     "text": [
      "['ahmed_mahmoud@yahoo.com', 'mounir.assan@gmail.com', 'mamdouhyasser3004@hotmail.com']\n"
     ]
    }
   ],
   "source": [
    "import re\n",
    "Text=open(\"text.txt\",\"r\")\n",
    "text_file=Text.read()\n",
    "pattern1=re.compile(r\"[A-z0-9\\.]+@[A-z0-9]+\\.com|net\")\n",
    "matches1=pattern1.finditer(text_file)\n",
    "emails=[]\n",
    "for match in matches1:\n",
    "    emails.append(match.group())\n",
    "print(emails)"
   ]
  },
  {
   "cell_type": "code",
   "execution_count": 33,
   "id": "b9036a5f",
   "metadata": {
    "ExecuteTime": {
     "end_time": "2022-08-31T15:12:44.499806Z",
     "start_time": "2022-08-31T15:12:44.485597Z"
    }
   },
   "outputs": [
    {
     "name": "stdout",
     "output_type": "stream",
     "text": [
      "['010-0200-0301', '011-2525-2525', '012-3636-3636']\n"
     ]
    }
   ],
   "source": [
    "pattern2=re.compile(r\"\\d{3}-\\d{4}-\\d{4}\")\n",
    "matches2=pattern2.finditer(text_file)\n",
    "numbers=[]\n",
    "for match in matches2:\n",
    "    numbers.append(match.group())\n",
    "print(numbers)"
   ]
  },
  {
   "cell_type": "code",
   "execution_count": 39,
   "id": "e71a5dbc",
   "metadata": {
    "ExecuteTime": {
     "end_time": "2022-08-31T15:31:07.713128Z",
     "start_time": "2022-08-31T15:31:07.703191Z"
    }
   },
   "outputs": [
    {
     "name": "stdout",
     "output_type": "stream",
     "text": [
      "['Ahmed Mahmoud Sayed', 'Mounir Hassan Adel', 'Mamdouh Saleh Yasser']\n"
     ]
    }
   ],
   "source": [
    "patternn=re.compile(r\"(?P<first>\\w+) (?P<mid>\\w+) (?P<last>\\w+)\")\n",
    "matchname=patternn.finditer(text_file)\n",
    "names=[]\n",
    "for match in matchname:\n",
    "    names.append(match.group())\n",
    "print (names)"
   ]
  }
 ],
 "metadata": {
  "kernelspec": {
   "display_name": "Python 3 (ipykernel)",
   "language": "python",
   "name": "python3"
  },
  "language_info": {
   "codemirror_mode": {
    "name": "ipython",
    "version": 3
   },
   "file_extension": ".py",
   "mimetype": "text/x-python",
   "name": "python",
   "nbconvert_exporter": "python",
   "pygments_lexer": "ipython3",
   "version": "3.9.12"
  }
 },
 "nbformat": 4,
 "nbformat_minor": 5
}
