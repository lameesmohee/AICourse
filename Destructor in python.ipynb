{
 "cells": [
  {
   "cell_type": "code",
   "execution_count": 3,
   "id": "9d740cb1",
   "metadata": {
    "ExecuteTime": {
     "end_time": "2022-08-17T15:02:22.566640Z",
     "start_time": "2022-08-17T15:02:22.556619Z"
    }
   },
   "outputs": [
    {
     "name": "stdout",
     "output_type": "stream",
     "text": [
      "New student\n",
      "Student deleted\n"
     ]
    }
   ],
   "source": [
    "class Students:\n",
    "    def __init__(self):\n",
    "        print(\"New student\")\n",
    "    def __del__(self):\n",
    "        print(\"Student deleted\")\n",
    "\n",
    "s1 = Students()\n",
    "del s1"
   ]
  },
  {
   "cell_type": "code",
   "execution_count": null,
   "id": "c589c451",
   "metadata": {},
   "outputs": [],
   "source": []
  }
 ],
 "metadata": {
  "kernelspec": {
   "display_name": "Python 3 (ipykernel)",
   "language": "python",
   "name": "python3"
  },
  "language_info": {
   "codemirror_mode": {
    "name": "ipython",
    "version": 3
   },
   "file_extension": ".py",
   "mimetype": "text/x-python",
   "name": "python",
   "nbconvert_exporter": "python",
   "pygments_lexer": "ipython3",
   "version": "3.9.12"
  }
 },
 "nbformat": 4,
 "nbformat_minor": 5
}
