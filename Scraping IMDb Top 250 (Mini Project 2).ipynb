{
 "cells": [
  {
   "cell_type": "code",
   "execution_count": 13,
   "id": "1253f8e0",
   "metadata": {
    "ExecuteTime": {
     "end_time": "2022-09-11T18:55:05.677231Z",
     "start_time": "2022-09-11T18:55:02.795863Z"
    }
   },
   "outputs": [],
   "source": [
    "import requests\n",
    "from bs4 import BeautifulSoup\n",
    "import csv\n",
    "from itertools import zip_longest\n",
    "ranks=[]\n",
    "names=[]\n",
    "years=[]\n",
    "ratings=[]\n",
    "site=requests.get(\"https://www.imdb.com/chart/top/\").content\n",
    "soup=BeautifulSoup(site,'lxml')\n",
    "rank=soup.find_all(\"td\",{\"class\":\"titleColumn\"})\n",
    "name=soup.find_all(\"td\",{\"class\":\"titleColumn\"})\n",
    "year=soup.find_all(\"span\",{\"class\":\"secondaryInfo\"})\n",
    "rating=soup.find_all(\"td\",{\"class\":\"ratingColumn imdbRating\"})\n",
    "for i in range(len(name)):\n",
    "    ranks.append(i+1)\n",
    "    names.append(name[i].a.text)\n",
    "    years.append(year[i].text)\n",
    "    ratings.append(rating[i].strong.text)\n",
    "\n",
    "imdb_list=[ranks,names,years,ratings]\n",
    "exported=zip_longest(*imdb_list)\n",
    "with open (r\"\\Users\\delta\\OneDrive\\Desktop\\IMDb.csv\", \"w\") as myfile:\n",
    "    wr = csv.writer(myfile)\n",
    "    wr.writerow([\"Rank\",\"Movie Name\", \"Year\", \"IMDb Rating\"])\n",
    "    wr.writerows(exported)\n"
   ]
  },
  {
   "cell_type": "code",
   "execution_count": null,
   "id": "2dba7927",
   "metadata": {},
   "outputs": [],
   "source": []
  }
 ],
 "metadata": {
  "kernelspec": {
   "display_name": "Python 3 (ipykernel)",
   "language": "python",
   "name": "python3"
  },
  "language_info": {
   "codemirror_mode": {
    "name": "ipython",
    "version": 3
   },
   "file_extension": ".py",
   "mimetype": "text/x-python",
   "name": "python",
   "nbconvert_exporter": "python",
   "pygments_lexer": "ipython3",
   "version": "3.9.12"
  }
 },
 "nbformat": 4,
 "nbformat_minor": 5
}
