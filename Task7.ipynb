{
 "cells": [
  {
   "cell_type": "markdown",
   "id": "dc38d6d9",
   "metadata": {},
   "source": [
    "<h1>What is Ternary Search?</h1>\n",
    "\n",
    "Ternary search is a decrease(by constant) and conquer algorithm that can be used to find an element in an array. It is similar to binary search where we divide the array into two parts but in this algorithm, we divide the given array into three parts and determine which has the key (searched element). We can divide the array into three parts by taking mid1 and mid2 which can be calculated as shown below. Initially, l and r will be equal to 0 and n-1 respectively, where n is the length of the array. \n",
    "mid1 = l + (r-l)/3 \n",
    "mid2 = r – (r-l)/3 \n",
    "\n",
    "*Steps to perform Ternary Search:*\n",
    "\n",
    "1. First, we compare the key with the element at mid1. If found equal, we return mid1.\n",
    "2. If not, then we compare the key with the element at mid2. If found equal, we return mid2.\n",
    "3. If not, then we check whether the key is less than the element at mid1. If yes, then recur to the first part.\n",
    "4. If not, then we check whether the key is greater than the element at mid2. If yes, then recur to the third part.\n",
    "5. If not, then we recur to the second (middle) part.\n",
    "____________________________________________________________________________________________________________________________"
   ]
  },
  {
   "cell_type": "markdown",
   "id": "c6e75342",
   "metadata": {},
   "source": [
    "<h1>What is UML diagrams?</h1>\n",
    "\n",
    "A UML diagram is a diagram based on the UML (Unified Modeling Language) with the purpose of visually representing a system along with its main actors, roles, actions, artifacts or classes, in order to better understand, alter, maintain, or document information about the system.\n",
    "\n",
    "<h3>Types of UML Diagrams:</h3>\n",
    "\n",
    "*Behavioral UML Diagram*\n",
    "1. Activity Diagram\n",
    "2. Use Case Diagram\n",
    "3. Interaction Overview Diagram\n",
    "4. Timing Diagram\n",
    "5. State Machine Diagram\n",
    "6. Communication Diagram\n",
    "7. Sequence Diagram\n",
    "\n",
    "*Structural UML Diagram*\n",
    "1. Class Diagram\n",
    "2. Object Diagram\n",
    "3. Component Diagram\n",
    "4. Composite Structure Diagram\n",
    "5. Deployment Diagram\n",
    "6. Package Diagram\n",
    "7. Profile Diagram\n",
    "\n",
    "_______________________________________________________________________________________________"
   ]
  },
  {
   "attachments": {
    "Code-example-1.png": {
     "image/png": "[encoded data removed]"
    }
   },
   "cell_type": "markdown",
   "id": "37c4433c",
   "metadata": {},
   "source": [
    "*Spagetti Code*\n",
    "![Code-example-1.png](attachment:Code-example-1.png)"
   ]
  },
  {
   "attachments": {
    "Code-example-2.png": {
     "image/png": "[encoded data removed]"
    }
   },
   "cell_type": "markdown",
   "id": "d44d2173",
   "metadata": {},
   "source": [
    "*Clean Code*\n",
    "![Code-example-2.png](attachment:Code-example-2.png)\n",
    "\n",
    "_________________________________________________________________________"
   ]
  },
  {
   "cell_type": "markdown",
   "id": "b094f4f8",
   "metadata": {},
   "source": [
    "<h1>What’s a Design Pattern in Software Engineering?</h1>\n",
    "\n",
    "A software design pattern is a general, reusable solution of how to solve a common problem when designing an application or system. Unlike a library or framework, which can be inserted and used right away, a design pattern is more of a template to approach the problem at hand.\n",
    "\n",
    "Design patterns are used to support object-oriented programming (OOP), a paradigm that is based on the concepts of both objects (instances of a class; data with unique attributes) and classes (user-defined types of data).\n",
    "\n",
    "\n",
    "*1. Creational Design Patterns*\n",
    "A creational design pattern deals with object creation and initialization, providing guidance about which objects are created for a given situation. These design patterns are used to increase flexibility and to reuse existing code.\n",
    "\n",
    "1. Factory Method: Creates objects with a common interface and lets a class defer instantiation to subclasses.\n",
    "2. Abstract Factory: Creates a family of related objects.\n",
    "3. Builder: A step-by-step pattern for creating complex objects, separating construction and representation.\n",
    "4. Prototype: Supports the copying of existing objects without code becoming dependent on classes.\n",
    "5. Singleton: Restricts object creation for a class to only one instance.\n",
    "\n",
    "\n",
    "\n",
    "*2. Structural Design Patterns*\n",
    "A structural design pattern deals with class and object composition, or how to assemble objects and classes into larger structures.\n",
    "\n",
    "1. Adapter: How to change or adapt an interface to that of another existing class to allow incompatible interfaces to work together.\n",
    "2. Bridge: A method to decouple an interface from its implementation.\n",
    "3. Composite: Leverages a tree structure to support manipulation as one object.\n",
    "4. Decorator: Dynamically extends (adds or overrides) functionality.\n",
    "5. Façade: Defines a high-level interface to simplify the use of a large body of code.\n",
    "6. Flyweight: Minimize memory use by sharing data with similar objects.\n",
    "7. Proxy: How to represent an object with another object to enable access control, reduce cost and reduce complexity.\n",
    "\n",
    "\n",
    "\n",
    "*3. Behavioral Design Patterns*\n",
    "A behavioral design pattern is concerned with communication between objects and how responsibilities are assigned between objects.\n",
    "\n",
    "1. Chain of Responsibility: A method for commands to be delegated to a chain of processing objects.\n",
    "2. Command: Encapsulates a command request in an object.\n",
    "3. Interpreter: Supports the use of language elements within an application.\n",
    "4. Iterator: Supports iterative (sequential) access to collection elements.\n",
    "5. Mediator: Articulates simple communication between classes.\n",
    "6. Memento: A process to save and restore the internal/original state of an object.\n",
    "7. Observer: Defines how to notify objects of changes to other object(s).\n",
    "8. State: How to alter the behavior of an object when its stage changes.\n",
    "9. Strategy: Encapsulates an algorithm inside a class.\n",
    "10. Visitor: Defines a new operation on a class without making changes to the class.\n",
    "11. Template Method: Defines the skeleton of an operation while allowing subclasses to refine certain steps.\n",
    "____________________________________________________________________________________________________________________________"
   ]
  },
  {
   "cell_type": "markdown",
   "id": "d9df60a3",
   "metadata": {},
   "source": [
    "<h1>Difference between Agile and DevOps</h1>\n",
    "\n",
    "The key difference between Agile versus DevOps is that Agile is a philosophy about how to develop and deliver software, while DevOps describes how to continuously deploy code through the use of modern tools and automated processes.\n",
    "\n",
    "<h3>DevOps processes and tools</h3>\n",
    "\n",
    "1. code repositories and version control, such as Git and GitHub;\n",
    "2. containerization and orchestration, such as Docker and Kubernetes;\n",
    "3. automatic and continuous code development and integration, including Jenkins and other tools;\n",
    "4. Kubernetes for orchestration;\n",
    "5. Static and dynamic code analysis;\n",
    "6. Configuration management and infrastructure as code, such as Chef, Puppet and Terraform;\n",
    "7. Public cloud platforms and services, including from AWS, Microsoft Azure and Google Cloud"
   ]
  }
 ],
 "metadata": {
  "kernelspec": {
   "display_name": "Python 3 (ipykernel)",
   "language": "python",
   "name": "python3"
  },
  "language_info": {
   "codemirror_mode": {
    "name": "ipython",
    "version": 3
   },
   "file_extension": ".py",
   "mimetype": "text/x-python",
   "name": "python",
   "nbconvert_exporter": "python",
   "pygments_lexer": "ipython3",
   "version": "3.9.12"
  }
 },
 "nbformat": 4,
 "nbformat_minor": 5
}
