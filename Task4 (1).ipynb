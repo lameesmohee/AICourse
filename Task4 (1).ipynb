{
 "cells": [
  {
   "cell_type": "code",
   "execution_count": 1,
   "id": "5b337ca9",
   "metadata": {
    "ExecuteTime": {
     "end_time": "2022-08-14T11:23:34.646930Z",
     "start_time": "2022-08-14T11:23:34.624823Z"
    }
   },
   "outputs": [
    {
     "name": "stdout",
     "output_type": "stream",
     "text": [
      "[('age', 20), ('gender', 'female'), ('university', 'cairo university')]\n"
     ]
    }
   ],
   "source": [
    "#problem 1\n",
    "lamees=dict()\n",
    "lamees={\"age\":20,\"university\":\"cairo university\",\"gender\":\"female\"}\n",
    "keys=lamees.items()\n",
    "Sort_pairs=sorted(keys)\n",
    "print(Sort_pairs)"
   ]
  },
  {
   "cell_type": "markdown",
   "id": "08e933f3",
   "metadata": {},
   "source": [
    "#problem 2\n",
    "\n",
    "-Adjacency List:An Adjacency list is an array consisting of the address of all the linked lists. The first node of the linked list represents the vertex and the remaining lists connected to this node represents the vertices to which this node is connected. This representation can also be used to represent a weighted graph. The linked list can slightly be changed to even store the weight of the edge.\n",
    "-Adjacency Matrix: Adjacency Matrix is a 2D array of size V x V where V is the number of vertices in a graph. Let the 2D array be adj[][], a slot adj[i][j] = 1 indicates that there is an edge from vertex i to vertex j. Adjacency matrix for undirected graph is always symmetric. Adjacency Matrix is also used to represent weighted graphs. If adj[i][j] = w, then there is an edge from vertex i to vertex j with weight w."
   ]
  },
  {
   "cell_type": "markdown",
   "id": "73a338fd",
   "metadata": {},
   "source": [
    "#3.How does DFS and BFS work\n",
    "\n",
    "1-BFS(Breadth First Search):\n",
    "    BFS is a traversal approach in which we first walk through all nodes on the same level before moving on to the next level.It works on the concept of FIFO (First In First Out). \n",
    "2-DFS(Depth First Search):\n",
    "    DFS is also a traversal approach in which the traverse begins at the root node and proceeds through the nodes as far as      possible until we reach the node with no unvisited nearby nodes.It works on the concept of LIFO (Last In First Out)."
   ]
  },
  {
   "cell_type": "code",
   "execution_count": 6,
   "id": "67e94c12",
   "metadata": {
    "ExecuteTime": {
     "end_time": "2022-08-14T11:39:01.985750Z",
     "start_time": "2022-08-14T11:38:57.985362Z"
    }
   },
   "outputs": [
    {
     "name": "stdout",
     "output_type": "stream",
     "text": [
      "Enter your name: Lamees\n",
      "Welcome Lamees\n",
      "maximum =  12\n"
     ]
    },
    {
     "data": {
      "text/plain": [
       "{'name': 'Lamees',\n",
       " 'Age': 20,\n",
       " 'Education': 'Cairo University, Faculty of Engineering, Systems and Biomedical Engineering Department'}"
      ]
     },
     "execution_count": 6,
     "metadata": {},
     "output_type": "execute_result"
    }
   ],
   "source": [
    "#4\n",
    "import lamlib\n",
    "lamlib.welcome()\n",
    "lamlib.maxnum(5,7,12)\n",
    "lamlib.fac(6)\n",
    "lamlib.lamdict"
   ]
  },
  {
   "cell_type": "code",
   "execution_count": null,
   "id": "f16218c5",
   "metadata": {},
   "outputs": [],
   "source": [
    "#5\n",
    "from queue import LifoQueue as stack\n",
    "def EnterStack():\n",
    "    OurStack=stack()\n",
    "    n=int(input(\"Enter size u want :\"))\n",
    "    if n==0:\n",
    "        n=int(input(\"wrong value,Enter valid value :\"))\n",
    "        \n",
    "    for i in range(0,n):\n",
    "        OurStack.put(input(\"enter ur data :\"))\n",
    "    return OurStack    \n",
    "        \n",
    "stk=stack()\n",
    "stk=EnterStack()\n",
    "stk.get()"
   ]
  },
  {
   "cell_type": "code",
   "execution_count": 13,
   "id": "d2df8c69",
   "metadata": {
    "ExecuteTime": {
     "end_time": "2022-08-14T11:50:06.452623Z",
     "start_time": "2022-08-14T11:50:06.437802Z"
    }
   },
   "outputs": [
    {
     "name": "stdout",
     "output_type": "stream",
     "text": [
      "{5, 5, 10, 12, 11, 11}\n"
     ]
    }
   ],
   "source": [
    "from multiset import *\n",
    "Lamees = Multiset()\n",
    "Lamees.add(5)\n",
    "Lamees.add(5)\n",
    "Lamees.add(10)\n",
    "Lamees.add(12)\n",
    "Lamees.add(11)\n",
    "Lamees.add(11)\n",
    "print(Lamees)"
   ]
  },
  {
   "cell_type": "code",
   "execution_count": 16,
   "id": "6aad4c1d",
   "metadata": {
    "ExecuteTime": {
     "end_time": "2022-08-14T12:05:57.461286Z",
     "start_time": "2022-08-14T12:05:57.447685Z"
    }
   },
   "outputs": [
    {
     "name": "stdout",
     "output_type": "stream",
     "text": [
      "{1, 19, 4, 20, 13, 15}\n"
     ]
    }
   ],
   "source": [
    "unorderedset=set()\n",
    "unorderedset={1,15,4,13,20,19}\n",
    "print(unorderedset)"
   ]
  },
  {
   "cell_type": "code",
   "execution_count": null,
   "id": "150ece5c",
   "metadata": {},
   "outputs": [],
   "source": []
  }
 ],
 "metadata": {
  "kernelspec": {
   "display_name": "Python 3 (ipykernel)",
   "language": "python",
   "name": "python3"
  },
  "language_info": {
   "codemirror_mode": {
    "name": "ipython",
    "version": 3
   },
   "file_extension": ".py",
   "mimetype": "text/x-python",
   "name": "python",
   "nbconvert_exporter": "python",
   "pygments_lexer": "ipython3",
   "version": "3.9.12"
  }
 },
 "nbformat": 4,
 "nbformat_minor": 5
}
