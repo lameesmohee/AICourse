{
 "cells": [
  {
   "cell_type": "markdown",
   "id": "a0b32931",
   "metadata": {},
   "source": [
    "<h3>Different Software Architecture Patterns :</h3>\n",
    "\n",
    "1. Layered Pattern\n",
    "2. Client-Server Pattern\n",
    "3. Event-Driven Pattern\n",
    "4. Microkernel Pattern\n",
    "5. Microservices Pattern\n",
    "\n",
    "<h5>1. Layered Pattern :</h5>\n",
    "\n",
    "- components(code) in this pattern are separated into layers of subtasks and they are arranged one above another.\n",
    "- *Ideal for:*  E-commerce web applications development like Amazon. \n",
    "\n",
    "<h5>2. Client-Server Pattern :</h5>\n",
    "\n",
    "- The client-server pattern has two major entities. They are a server and multiple clients. \n",
    "- Here the server has resources(data, files or services) and a client requests the server for a particular resource. Then the server processes the request and responds back accordingly.\n",
    "- *Ideal for:*  developing the kind of software listed in the examples.  \n",
    "\n",
    "<h5>3. Event-Driven Pattern :</h5>\n",
    "\n",
    "- Event-Driven Architecture is an agile approach in which services (operations) of the software are triggered by events. \n",
    "- *Ideal for:*  Building websites with JavaScript and e-commerce websites in general.\n",
    "\n",
    "<h5>4. Microkernel Pattern :</h5>\n",
    "\n",
    "Microkernel pattern has two major components. They are a core system and plug-in modules. \n",
    "   - The core system handles the fundamental and minimal operations of the application.\n",
    "   - The plug-in modules handle the extended functionalities (like extra features) and customized processing.\n",
    "\n",
    "- *ideal for:*  Product-based applications and scheduling applications. We love new features that keep giving dopamine boost to our brain. Such as Instagram reels, YouTube Shorts and a lot more that feasts us digitally. So this pattern is mostly preferred for app development.  \n",
    "\n",
    "<h5>5. Microservices Pattern :</h5>\n",
    "\n",
    "- The collection of small services that are combined to form the actual application is the concept of microservices pattern. Instead of building a bigger application, small programs are built for every service (function) of an application independently. And those small programs are bundled together to be a full-fledged application.  \n",
    "- *Example:* Netflix is one of the most popular examples of software built-in microservices architecture. This pattern is most suitable for websites and web apps having small components. "
   ]
  },
  {
   "cell_type": "markdown",
   "id": "67a18a76",
   "metadata": {},
   "source": [
    "<h3>What is Cron Job?</h3>\n",
    "\n",
    "A cron job is a Linux command used for scheduling tasks to be executed sometime in the future. This is normally used to schedule a job that is executed periodically – for example, to send out a notice every morning. Some scripts, such as Drupal and WHMCS may require you to set up cron jobs to perform certain functions.\n",
    "\n",
    "For most cron jobs, there are three components present:\n",
    "\n",
    "- The script that is to be called or executed.\n",
    " \n",
    "- The command that executes the script on a reoccurring basis. This is typically set in cPanel.\n",
    " \n",
    "- The action or output of the script, which depends on what the script being called does. Frequently, scripts called as cron jobs modify files or databases. However, they can perform other tasks that do not modify data on the server as well, such as sending out email notifications."
   ]
  }
 ],
 "metadata": {
  "kernelspec": {
   "display_name": "Python 3 (ipykernel)",
   "language": "python",
   "name": "python3"
  },
  "language_info": {
   "codemirror_mode": {
    "name": "ipython",
    "version": 3
   },
   "file_extension": ".py",
   "mimetype": "text/x-python",
   "name": "python",
   "nbconvert_exporter": "python",
   "pygments_lexer": "ipython3",
   "version": "3.9.12"
  }
 },
 "nbformat": 4,
 "nbformat_minor": 5
}
