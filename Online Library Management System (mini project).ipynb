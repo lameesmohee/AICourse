{
 "cells": [
  {
   "cell_type": "code",
   "execution_count": 1,
   "id": "2b4333e0",
   "metadata": {
    "ExecuteTime": {
     "end_time": "2022-08-30T16:37:02.107645Z",
     "start_time": "2022-08-30T16:37:02.083497Z"
    }
   },
   "outputs": [],
   "source": [
    "class Library:\n",
    "    def __init__(self):\n",
    "        print(\"Welcome to our library...\")\n",
    "        self.name=input(\"Enter your name: \")\n",
    "        self.password=int(input(\"Enter your password: \"))\n",
    "        print(\"Your ID is: \", id(self))\n",
    "        self.availablebooks=['Clean Code','Introduction to Algorithms','Structure and Interpretation of Computer Programs','The Clean Coder','Code Complete','Design Patterns','The Pragmatic Programmer','Head First Design Patterns','Refactoring','The Art of Computer Programming']\n",
    "        self.bookslent=list()\n",
    "    def Displaybook(self):\n",
    "        print(\"The available books are\" , self.availablebooks)\n",
    "    def Lendbook(self): \n",
    "        ps=int(input(\"Enter your password: \"))\n",
    "        if ps==self.password:\n",
    "            book1=input(\"Please enter the name of the book that you want to borrow: \")\n",
    "            if book1 in self.availablebooks:\n",
    "                self.bookslent.append(book1)\n",
    "                self.availablebooks.remove(book1)\n",
    "                print(\"You have\", book1 , \"book now.\")\n",
    "            else:\n",
    "                print(\"This book is not available now.\")\n",
    "        else:\n",
    "            print(\"Incorrect password. \")\n",
    "    def Addbook(self):\n",
    "        ps=int(input(\"Enter your password: \"))\n",
    "        if ps==self.password:\n",
    "            \n",
    "            book2=input(\"Enter the name of the book that you want to add: \")\n",
    "            if book2 in self.availablebooks:\n",
    "                print(\"This book already exists.\")\n",
    "            else:\n",
    "                self.availablebooks.append(book2)\n",
    "                print(\"Your book has been added.Thank You.\")\n",
    "        else:\n",
    "            print(\"Incorrect password. \")\n",
    "    def Returnbook(self):\n",
    "        ps=int(input(\"Enter your password: \"))\n",
    "        if ps==self.password:\n",
    "            book3=input(\"Enter the name of the book you want to return: \")\n",
    "            if book3 in self.bookslent:\n",
    "                self.bookslent.remove(book3)\n",
    "                self.availablebooks.append(book3)\n",
    "                print(\"Successfully returned. \")\n",
    "            else:\n",
    "                print(\"You don't have this book. \")\n",
    "        else:\n",
    "            print(\"Incorrect password. \")\n",
    "    def Booklent(self):\n",
    "        print(\"You have these books: \", self.bookslent)"
   ]
  },
  {
   "cell_type": "code",
   "execution_count": 2,
   "id": "e3f6590d",
   "metadata": {
    "ExecuteTime": {
     "end_time": "2022-08-30T16:37:11.091426Z",
     "start_time": "2022-08-30T16:37:04.508456Z"
    }
   },
   "outputs": [
    {
     "name": "stdout",
     "output_type": "stream",
     "text": [
      "Welcome to our library...\n",
      "Enter your name: lamees\n",
      "Enter your password: 123\n",
      "Your ID is:  2204617552032\n"
     ]
    }
   ],
   "source": [
    "a=Library()"
   ]
  },
  {
   "cell_type": "code",
   "execution_count": 3,
   "id": "b8bceaaa",
   "metadata": {
    "ExecuteTime": {
     "end_time": "2022-08-27T16:39:35.818796Z",
     "start_time": "2022-08-27T16:39:35.811602Z"
    }
   },
   "outputs": [
    {
     "name": "stdout",
     "output_type": "stream",
     "text": [
      "The available books are ['Clean Code', 'Introduction to Algorithms', 'Structure and Interpretation of Computer Programs', 'The Clean Coder', 'Code Complete', 'Design Patterns', 'The Pragmatic Programmer', 'Head First Design Patterns', 'Refactoring', 'The Art of Computer Programming']\n"
     ]
    }
   ],
   "source": [
    "a.Displaybook()"
   ]
  },
  {
   "cell_type": "code",
   "execution_count": 4,
   "id": "18649826",
   "metadata": {
    "ExecuteTime": {
     "end_time": "2022-08-27T16:40:33.075264Z",
     "start_time": "2022-08-27T16:40:19.551203Z"
    }
   },
   "outputs": [
    {
     "name": "stdout",
     "output_type": "stream",
     "text": [
      "Enter your password: 123\n",
      "Please enter the name of the book that you want to borrow: Clean Code\n",
      "You have Clean Code book now.\n"
     ]
    }
   ],
   "source": [
    "a.Lendbook()"
   ]
  },
  {
   "cell_type": "code",
   "execution_count": 5,
   "id": "1c174e22",
   "metadata": {
    "ExecuteTime": {
     "end_time": "2022-08-27T16:40:52.461289Z",
     "start_time": "2022-08-27T16:40:52.445016Z"
    }
   },
   "outputs": [
    {
     "name": "stdout",
     "output_type": "stream",
     "text": [
      "The available books are ['Introduction to Algorithms', 'Structure and Interpretation of Computer Programs', 'The Clean Coder', 'Code Complete', 'Design Patterns', 'The Pragmatic Programmer', 'Head First Design Patterns', 'Refactoring', 'The Art of Computer Programming']\n"
     ]
    }
   ],
   "source": [
    "a.Displaybook()"
   ]
  },
  {
   "cell_type": "code",
   "execution_count": 6,
   "id": "e17ae8c3",
   "metadata": {
    "ExecuteTime": {
     "end_time": "2022-08-27T16:41:51.573078Z",
     "start_time": "2022-08-27T16:41:26.097394Z"
    }
   },
   "outputs": [
    {
     "name": "stdout",
     "output_type": "stream",
     "text": [
      "Enter your password: 123\n",
      "Please enter the name of the book that you want to borrow: Refactoring\n",
      "You have Refactoring book now.\n"
     ]
    }
   ],
   "source": [
    "a.Lendbook()"
   ]
  },
  {
   "cell_type": "code",
   "execution_count": 7,
   "id": "29415026",
   "metadata": {
    "ExecuteTime": {
     "end_time": "2022-08-27T16:42:26.137539Z",
     "start_time": "2022-08-27T16:42:26.122902Z"
    }
   },
   "outputs": [
    {
     "name": "stdout",
     "output_type": "stream",
     "text": [
      "You have these books:  ['Clean Code', 'Refactoring']\n"
     ]
    }
   ],
   "source": [
    "a.Booklent()"
   ]
  },
  {
   "cell_type": "code",
   "execution_count": 8,
   "id": "2148d04e",
   "metadata": {
    "ExecuteTime": {
     "end_time": "2022-08-27T16:43:52.812980Z",
     "start_time": "2022-08-27T16:43:05.085476Z"
    }
   },
   "outputs": [
    {
     "name": "stdout",
     "output_type": "stream",
     "text": [
      "Enter your password: 123\n",
      "Enter the name of the book that you want to add: Fluent Python\n",
      "Your book has been added.Thank You.\n"
     ]
    }
   ],
   "source": [
    "a.Addbook()"
   ]
  },
  {
   "cell_type": "code",
   "execution_count": 9,
   "id": "b7d8bc41",
   "metadata": {
    "ExecuteTime": {
     "end_time": "2022-08-27T16:44:02.300971Z",
     "start_time": "2022-08-27T16:44:02.288431Z"
    }
   },
   "outputs": [
    {
     "name": "stdout",
     "output_type": "stream",
     "text": [
      "The available books are ['Introduction to Algorithms', 'Structure and Interpretation of Computer Programs', 'The Clean Coder', 'Code Complete', 'Design Patterns', 'The Pragmatic Programmer', 'Head First Design Patterns', 'The Art of Computer Programming', 'Fluent Python']\n"
     ]
    }
   ],
   "source": [
    "a.Displaybook()"
   ]
  },
  {
   "cell_type": "code",
   "execution_count": 10,
   "id": "6f9e27c0",
   "metadata": {
    "ExecuteTime": {
     "end_time": "2022-08-27T16:44:43.082360Z",
     "start_time": "2022-08-27T16:44:16.819222Z"
    }
   },
   "outputs": [
    {
     "name": "stdout",
     "output_type": "stream",
     "text": [
      "Enter your password: 123\n",
      "Enter the name of the book that you want to add: Code Complete\n",
      "This book already exists.\n"
     ]
    }
   ],
   "source": [
    "a.Addbook()"
   ]
  },
  {
   "cell_type": "code",
   "execution_count": 11,
   "id": "31d9aa61",
   "metadata": {
    "ExecuteTime": {
     "end_time": "2022-08-27T16:45:37.729436Z",
     "start_time": "2022-08-27T16:45:13.958457Z"
    }
   },
   "outputs": [
    {
     "name": "stdout",
     "output_type": "stream",
     "text": [
      "Enter your password: 123\n",
      "Enter the name of the book you want to return: Clean Code\n",
      "Successfully returned. \n"
     ]
    }
   ],
   "source": [
    "a.Returnbook()"
   ]
  },
  {
   "cell_type": "code",
   "execution_count": 12,
   "id": "0cb6d525",
   "metadata": {
    "ExecuteTime": {
     "end_time": "2022-08-27T16:45:55.985776Z",
     "start_time": "2022-08-27T16:45:55.971062Z"
    }
   },
   "outputs": [
    {
     "name": "stdout",
     "output_type": "stream",
     "text": [
      "You have these books:  ['Refactoring']\n"
     ]
    }
   ],
   "source": [
    "a.Booklent()"
   ]
  },
  {
   "cell_type": "code",
   "execution_count": null,
   "id": "92b24ac3",
   "metadata": {},
   "outputs": [],
   "source": []
  }
 ],
 "metadata": {
  "kernelspec": {
   "display_name": "Python 3 (ipykernel)",
   "language": "python",
   "name": "python3"
  },
  "language_info": {
   "codemirror_mode": {
    "name": "ipython",
    "version": 3
   },
   "file_extension": ".py",
   "mimetype": "text/x-python",
   "name": "python",
   "nbconvert_exporter": "python",
   "pygments_lexer": "ipython3",
   "version": "3.9.12"
  }
 },
 "nbformat": 4,
 "nbformat_minor": 5
}
