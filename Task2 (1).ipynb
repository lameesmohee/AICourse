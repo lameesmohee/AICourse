{
 "cells": [
  {
   "cell_type": "code",
   "execution_count": null,
   "id": "7cb95c67",
   "metadata": {},
   "outputs": [],
   "source": [
    "#1\n",
    "for i in range(1500,2700):\n",
    "    if i%7==0 and i%5==0:\n",
    "        print (i) "
   ]
  },
  {
   "cell_type": "code",
   "execution_count": null,
   "id": "f2e1f0e6",
   "metadata": {},
   "outputs": [],
   "source": [
    "#2\n",
    "print(\"If you want to covert tempratures from celsius to fahrenheit enter 1\")\n",
    "print(\"If you want to covert tempratures from fahrenheit to celsius enter 2\")\n",
    "x = int(input ())\n",
    "if x == 1:\n",
    "    temprature = float(input(\"Please enter temprature in Celsius: \"))\n",
    "    f = (temprature * (9/5) )+ 32\n",
    "    print(\"Temprature in Fahrenheit = \" , f)\n",
    "elif x == 2:\n",
    "    temprature = float(input(\"Please enter temprature in fahrenheit: \"))\n",
    "    c = (temprature - 32) * 5/9\n",
    "    print(\"Temprature in Celsius = \" , c)"
   ]
  },
  {
   "cell_type": "code",
   "execution_count": null,
   "id": "3ae02e45",
   "metadata": {},
   "outputs": [],
   "source": [
    "#3\n",
    "for i in range(0,5):\n",
    "    for j in range(i):\n",
    "        print (\"*\" , end=\" \")\n",
    "    print('')\n",
    "for i in range(5,0,-1):\n",
    "    for j in range(i):\n",
    "        print (\"*\", end =\" \")\n",
    "    print('')"
   ]
  },
  {
   "cell_type": "code",
   "execution_count": null,
   "id": "aca08a7a",
   "metadata": {},
   "outputs": [],
   "source": [
    "#4\n",
    "word = input(\"please enter the word: \")\n",
    "for i in range (len(word) -1 , -1, -1):\n",
    "    print (word[i] , end = \"\")\n",
    "    \n"
   ]
  },
  {
   "cell_type": "code",
   "execution_count": null,
   "id": "b0968f4f",
   "metadata": {},
   "outputs": [],
   "source": [
    "#5\n",
    "x,y,z = int(input (\"first number\")) , int(input (\"second number\")) , int(input (\"third number\"))\n",
    "def maxnum ( a,b,c ):\n",
    "    if a>b and a>c:\n",
    "        print (\"maximum = \" , a)\n",
    "    elif b>a and b>c:\n",
    "        print (\"maximum = \" , b)\n",
    "    elif c>a and c>b:\n",
    "        print (\"maximum = \" , c)\n",
    "maxnum (x,y,z)"
   ]
  },
  {
   "cell_type": "code",
   "execution_count": null,
   "id": "a53be39f",
   "metadata": {},
   "outputs": [],
   "source": [
    "#6\n",
    "l = list ()\n",
    "i=0\n",
    "while i<3:\n",
    "    l.append (int (input()))\n",
    "    i+=1\n",
    "def sumnum ():\n",
    "    x= l[0]+l[1]+l[2]\n",
    "    print (\"sum = \" , x)\n",
    "sumnum()\n",
    "   "
   ]
  },
  {
   "cell_type": "code",
   "execution_count": null,
   "id": "a7c9757a",
   "metadata": {},
   "outputs": [],
   "source": [
    "#7\n",
    "i=0\n",
    "print (i)\n",
    "while i<6:\n",
    "    i+=1\n",
    "    if i==3 or i==6 :\n",
    "        continue\n",
    "    print (i)"
   ]
  },
  {
   "cell_type": "code",
   "execution_count": null,
   "id": "d5d48249",
   "metadata": {},
   "outputs": [],
   "source": [
    "#8\n",
    "num = int(input(\"please enter the number: \"))\n",
    "def fac (a):\n",
    "    i=1\n",
    "    f=1\n",
    "    while i<=a:\n",
    "        f = f*i\n",
    "        i+=1\n",
    "    return f\n",
    "x= fac (num)\n",
    "print(x)"
   ]
  },
  {
   "cell_type": "code",
   "execution_count": 1,
   "id": "524f7b92",
   "metadata": {
    "scrolled": true
   },
   "outputs": [
    {
     "ename": "KeyboardInterrupt",
     "evalue": "Interrupted by user",
     "output_type": "error",
     "traceback": [
      "\u001b[1;31m---------------------------------------------------------------------------\u001b[0m",
      "\u001b[1;31mKeyboardInterrupt\u001b[0m                         Traceback (most recent call last)",
      "Input \u001b[1;32mIn [1]\u001b[0m, in \u001b[0;36m<cell line: 4>\u001b[1;34m()\u001b[0m\n\u001b[0;32m      3\u001b[0m i\u001b[38;5;241m=\u001b[39m\u001b[38;5;241m0\u001b[39m\n\u001b[0;32m      4\u001b[0m \u001b[38;5;28;01mwhile\u001b[39;00m i\u001b[38;5;241m<\u001b[39m\u001b[38;5;241m5\u001b[39m:\n\u001b[1;32m----> 5\u001b[0m     l\u001b[38;5;241m.\u001b[39mappend(\u001b[38;5;28;43minput\u001b[39;49m\u001b[43m(\u001b[49m\u001b[43m)\u001b[49m)\n\u001b[0;32m      6\u001b[0m     i\u001b[38;5;241m+\u001b[39m\u001b[38;5;241m=\u001b[39m\u001b[38;5;241m1\u001b[39m\n\u001b[0;32m      7\u001b[0m \u001b[38;5;28;01mdef\u001b[39;00m \u001b[38;5;21munique\u001b[39m():\n",
      "File \u001b[1;32m~\\anaconda3d\\lib\\site-packages\\ipykernel\\kernelbase.py:1075\u001b[0m, in \u001b[0;36mKernel.raw_input\u001b[1;34m(self, prompt)\u001b[0m\n\u001b[0;32m   1071\u001b[0m \u001b[38;5;28;01mif\u001b[39;00m \u001b[38;5;129;01mnot\u001b[39;00m \u001b[38;5;28mself\u001b[39m\u001b[38;5;241m.\u001b[39m_allow_stdin:\n\u001b[0;32m   1072\u001b[0m     \u001b[38;5;28;01mraise\u001b[39;00m StdinNotImplementedError(\n\u001b[0;32m   1073\u001b[0m         \u001b[38;5;124m\"\u001b[39m\u001b[38;5;124mraw_input was called, but this frontend does not support input requests.\u001b[39m\u001b[38;5;124m\"\u001b[39m\n\u001b[0;32m   1074\u001b[0m     )\n\u001b[1;32m-> 1075\u001b[0m \u001b[38;5;28;01mreturn\u001b[39;00m \u001b[38;5;28;43mself\u001b[39;49m\u001b[38;5;241;43m.\u001b[39;49m\u001b[43m_input_request\u001b[49m\u001b[43m(\u001b[49m\n\u001b[0;32m   1076\u001b[0m \u001b[43m    \u001b[49m\u001b[38;5;28;43mstr\u001b[39;49m\u001b[43m(\u001b[49m\u001b[43mprompt\u001b[49m\u001b[43m)\u001b[49m\u001b[43m,\u001b[49m\n\u001b[0;32m   1077\u001b[0m \u001b[43m    \u001b[49m\u001b[38;5;28;43mself\u001b[39;49m\u001b[38;5;241;43m.\u001b[39;49m\u001b[43m_parent_ident\u001b[49m\u001b[43m[\u001b[49m\u001b[38;5;124;43m\"\u001b[39;49m\u001b[38;5;124;43mshell\u001b[39;49m\u001b[38;5;124;43m\"\u001b[39;49m\u001b[43m]\u001b[49m\u001b[43m,\u001b[49m\n\u001b[0;32m   1078\u001b[0m \u001b[43m    \u001b[49m\u001b[38;5;28;43mself\u001b[39;49m\u001b[38;5;241;43m.\u001b[39;49m\u001b[43mget_parent\u001b[49m\u001b[43m(\u001b[49m\u001b[38;5;124;43m\"\u001b[39;49m\u001b[38;5;124;43mshell\u001b[39;49m\u001b[38;5;124;43m\"\u001b[39;49m\u001b[43m)\u001b[49m\u001b[43m,\u001b[49m\n\u001b[0;32m   1079\u001b[0m \u001b[43m    \u001b[49m\u001b[43mpassword\u001b[49m\u001b[38;5;241;43m=\u001b[39;49m\u001b[38;5;28;43;01mFalse\u001b[39;49;00m\u001b[43m,\u001b[49m\n\u001b[0;32m   1080\u001b[0m \u001b[43m\u001b[49m\u001b[43m)\u001b[49m\n",
      "File \u001b[1;32m~\\anaconda3d\\lib\\site-packages\\ipykernel\\kernelbase.py:1120\u001b[0m, in \u001b[0;36mKernel._input_request\u001b[1;34m(self, prompt, ident, parent, password)\u001b[0m\n\u001b[0;32m   1117\u001b[0m             \u001b[38;5;28;01mbreak\u001b[39;00m\n\u001b[0;32m   1118\u001b[0m \u001b[38;5;28;01mexcept\u001b[39;00m \u001b[38;5;167;01mKeyboardInterrupt\u001b[39;00m:\n\u001b[0;32m   1119\u001b[0m     \u001b[38;5;66;03m# re-raise KeyboardInterrupt, to truncate traceback\u001b[39;00m\n\u001b[1;32m-> 1120\u001b[0m     \u001b[38;5;28;01mraise\u001b[39;00m \u001b[38;5;167;01mKeyboardInterrupt\u001b[39;00m(\u001b[38;5;124m\"\u001b[39m\u001b[38;5;124mInterrupted by user\u001b[39m\u001b[38;5;124m\"\u001b[39m) \u001b[38;5;28;01mfrom\u001b[39;00m \u001b[38;5;28mNone\u001b[39m\n\u001b[0;32m   1121\u001b[0m \u001b[38;5;28;01mexcept\u001b[39;00m \u001b[38;5;167;01mException\u001b[39;00m:\n\u001b[0;32m   1122\u001b[0m     \u001b[38;5;28mself\u001b[39m\u001b[38;5;241m.\u001b[39mlog\u001b[38;5;241m.\u001b[39mwarning(\u001b[38;5;124m\"\u001b[39m\u001b[38;5;124mInvalid Message:\u001b[39m\u001b[38;5;124m\"\u001b[39m, exc_info\u001b[38;5;241m=\u001b[39m\u001b[38;5;28;01mTrue\u001b[39;00m)\n",
      "\u001b[1;31mKeyboardInterrupt\u001b[0m: Interrupted by user"
     ]
    }
   ],
   "source": [
    "#9\n",
    "l = list()\n",
    "i=0\n",
    "while i<5:\n",
    "    l.append(input())\n",
    "    i+=1\n",
    "def unique():\n",
    "    s = set(l)\n",
    "    print (s)\n",
    "unique()"
   ]
  },
  {
   "cell_type": "code",
   "execution_count": null,
   "id": "feebfa8f",
   "metadata": {},
   "outputs": [],
   "source": [
    "#10\n",
    "i=int(input(\"if you want to add 15 to the number enter 1 \\nif you want to claculate te sum of 2 numbers enter 2 \\n\"))\n",
    "if i == 1:\n",
    "    num1 = float(input(\"please enter the number: \"))\n",
    "    x = lambda a : a + 15\n",
    "    print(\"the result = \" , x(num1))\n",
    "elif i==2:\n",
    "    num1 = float(input(\"please enter the firt number: \"))\n",
    "    num2 = float(input(\"please enter the second number: \"))\n",
    "    x= lambda a,b : a+b\n",
    "    print(\"the result= \" , x(num1,num2))\n",
    "    "
   ]
  },
  {
   "cell_type": "code",
   "execution_count": null,
   "id": "b8742fb1",
   "metadata": {},
   "outputs": [],
   "source": []
  }
 ],
 "metadata": {
  "kernelspec": {
   "display_name": "Python 3 (ipykernel)",
   "language": "python",
   "name": "python3"
  },
  "language_info": {
   "codemirror_mode": {
    "name": "ipython",
    "version": 3
   },
   "file_extension": ".py",
   "mimetype": "text/x-python",
   "name": "python",
   "nbconvert_exporter": "python",
   "pygments_lexer": "ipython3",
   "version": "3.9.12"
  }
 },
 "nbformat": 4,
 "nbformat_minor": 5
}
