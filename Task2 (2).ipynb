{
 "cells": [
  {
   "cell_type": "code",
   "execution_count": 2,
   "id": "7cb95c67",
   "metadata": {},
   "outputs": [
    {
     "name": "stdout",
     "output_type": "stream",
     "text": [
      "1505\n",
      "1540\n",
      "1575\n",
      "1610\n",
      "1645\n",
      "1680\n",
      "1715\n",
      "1750\n",
      "1785\n",
      "1820\n",
      "1855\n",
      "1890\n",
      "1925\n",
      "1960\n",
      "1995\n",
      "2030\n",
      "2065\n",
      "2100\n",
      "2135\n",
      "2170\n",
      "2205\n",
      "2240\n",
      "2275\n",
      "2310\n",
      "2345\n",
      "2380\n",
      "2415\n",
      "2450\n",
      "2485\n",
      "2520\n",
      "2555\n",
      "2590\n",
      "2625\n",
      "2660\n",
      "2695\n"
     ]
    }
   ],
   "source": [
    "#1\n",
    "for i in range(1500,2700):\n",
    "    if i%7==0 and i%5==0:\n",
    "        print (i) "
   ]
  },
  {
   "cell_type": "code",
   "execution_count": 7,
   "id": "f2e1f0e6",
   "metadata": {},
   "outputs": [
    {
     "name": "stdout",
     "output_type": "stream",
     "text": [
      "If you want to covert tempratures from celsius to fahrenheit enter 1\n",
      "If you want to covert tempratures from fahrenheit to celsius enter 2\n",
      "2\n",
      "Please enter temprature in fahrenheit: 10\n",
      "Temprature in Celsius =  -12.222222222222221\n"
     ]
    }
   ],
   "source": [
    "#2\n",
    "print(\"If you want to covert tempratures from celsius to fahrenheit enter 1\")\n",
    "print(\"If you want to covert tempratures from fahrenheit to celsius enter 2\")\n",
    "x = int(input ())\n",
    "if x == 1:\n",
    "    temprature = float(input(\"Please enter temprature in Celsius: \"))\n",
    "    f = (temprature * (9/5) )+ 32\n",
    "    print(\"Temprature in Fahrenheit = \" , f)\n",
    "elif x == 2:\n",
    "    temprature = float(input(\"Please enter temprature in fahrenheit: \"))\n",
    "    c = (temprature - 32) * 5/9\n",
    "    print(\"Temprature in Celsius = \" , c)"
   ]
  },
  {
   "cell_type": "code",
   "execution_count": null,
   "id": "3ae02e45",
   "metadata": {},
   "outputs": [],
   "source": [
    "#3\n",
    "for i in range(0,5):\n",
    "    for j in range(i):\n",
    "        print (\"*\" , end=\" \")\n",
    "    print('')\n",
    "for i in range(5,0,-1):\n",
    "    for j in range(i):\n",
    "        print (\"*\", end =\" \")\n",
    "    print('')"
   ]
  },
  {
   "cell_type": "code",
   "execution_count": 42,
   "id": "aca08a7a",
   "metadata": {},
   "outputs": [
    {
     "name": "stdout",
     "output_type": "stream",
     "text": [
      "please enter the word: lamees\n",
      "seemal"
     ]
    }
   ],
   "source": [
    "#4\n",
    "word = input(\"please enter the word: \")\n",
    "for i in range (len(word) -1 , -1, -1):\n",
    "    print (word[i] , end = \"\")\n",
    "    \n"
   ]
  },
  {
   "cell_type": "code",
   "execution_count": 45,
   "id": "b0968f4f",
   "metadata": {},
   "outputs": [
    {
     "name": "stdout",
     "output_type": "stream",
     "text": [
      "first number50\n",
      "second number60\n",
      "third number40\n",
      "maximum =  60\n"
     ]
    }
   ],
   "source": [
    "#5\n",
    "x,y,z = int(input (\"first number\")) , int(input (\"second number\")) , int(input (\"third number\"))\n",
    "def maxnum ( a,b,c ):\n",
    "    if a>b and a>c:\n",
    "        print (\"maximum = \" , a)\n",
    "    elif b>a and b>c:\n",
    "        print (\"maximum = \" , b)\n",
    "    elif c>a and c>b:\n",
    "        print (\"maximum = \" , c)\n",
    "maxnum (x,y,z)"
   ]
  },
  {
   "cell_type": "code",
   "execution_count": 50,
   "id": "a53be39f",
   "metadata": {},
   "outputs": [
    {
     "name": "stdout",
     "output_type": "stream",
     "text": [
      "1\n",
      "2\n",
      "3\n",
      "sum =  6\n"
     ]
    }
   ],
   "source": [
    "#6\n",
    "l = list ()\n",
    "i=0\n",
    "while i<3:\n",
    "    l.append (int (input()))\n",
    "    i+=1\n",
    "def sumnum ():\n",
    "    x= l[0]+l[1]+l[2]\n",
    "    print (\"sum = \" , x)\n",
    "sumnum()\n",
    "   "
   ]
  },
  {
   "cell_type": "code",
   "execution_count": 61,
   "id": "a7c9757a",
   "metadata": {},
   "outputs": [
    {
     "name": "stdout",
     "output_type": "stream",
     "text": [
      "0\n",
      "1\n",
      "2\n",
      "4\n",
      "5\n"
     ]
    }
   ],
   "source": [
    "#7\n",
    "i=0\n",
    "print (i)\n",
    "while i<6:\n",
    "    i+=1\n",
    "    if i==3 or i==6 :\n",
    "        continue\n",
    "    print (i)"
   ]
  },
  {
   "cell_type": "code",
   "execution_count": 73,
   "id": "d5d48249",
   "metadata": {},
   "outputs": [
    {
     "name": "stdout",
     "output_type": "stream",
     "text": [
      "please enter the number: 5\n",
      "120\n"
     ]
    }
   ],
   "source": [
    "#8\n",
    "num = int(input(\"please enter the number: \"))\n",
    "def fac (a):\n",
    "    i=1\n",
    "    f=1\n",
    "    while i<=a:\n",
    "        f = f*i\n",
    "        i+=1\n",
    "    return f\n",
    "x= fac (num)\n",
    "print(x)"
   ]
  },
  {
   "cell_type": "code",
   "execution_count": 93,
   "id": "524f7b92",
   "metadata": {
    "scrolled": true
   },
   "outputs": [
    {
     "name": "stdout",
     "output_type": "stream",
     "text": [
      "1\n",
      "2\n",
      "3\n",
      "3\n",
      "2\n",
      "{'2', '3', '1'}\n"
     ]
    }
   ],
   "source": [
    "#9\n",
    "l = list()\n",
    "i=0\n",
    "while i<5:\n",
    "    l.append(input())\n",
    "    i+=1\n",
    "def unique():\n",
    "    s = set(l)\n",
    "    print (s)\n",
    "unique()"
   ]
  },
  {
   "cell_type": "code",
   "execution_count": 92,
   "id": "b014eda8",
   "metadata": {},
   "outputs": [
    {
     "name": "stdout",
     "output_type": "stream",
     "text": [
      "if you want to add 15 to the number enter 1 \n",
      "if you want to claculate te sum of 2 numbers enter 2 \n",
      "1\n",
      "please enter the number: 3\n",
      "the result =  18.0\n"
     ]
    }
   ],
   "source": [
    "#10\n",
    "i=int(input(\"if you want to add 15 to the number enter 1 \\nif you want to claculate te sum of 2 numbers enter 2 \\n\"))\n",
    "if i == 1:\n",
    "    num1 = float(input(\"please enter the number: \"))\n",
    "    x = lambda a : a + 15\n",
    "    print(\"the result = \" , x(num1))\n",
    "elif i==2:\n",
    "    num1 = float(input(\"please enter the firt number: \"))\n",
    "    num2 = float(input(\"please enter the second number: \"))\n",
    "    x= lambda a,b : a+b\n",
    "    print(\"the result= \" , x(num1,num2))\n",
    "    "
   ]
  },
  {
   "cell_type": "code",
   "execution_count": null,
   "id": "551f4c67",
   "metadata": {},
   "outputs": [],
   "source": []
  }
 ],
 "metadata": {
  "kernelspec": {
   "display_name": "Python 3 (ipykernel)",
   "language": "python",
   "name": "python3"
  },
  "language_info": {
   "codemirror_mode": {
    "name": "ipython",
    "version": 3
   },
   "file_extension": ".py",
   "mimetype": "text/x-python",
   "name": "python",
   "nbconvert_exporter": "python",
   "pygments_lexer": "ipython3",
   "version": "3.9.12"
  }
 },
 "nbformat": 4,
 "nbformat_minor": 5
}
